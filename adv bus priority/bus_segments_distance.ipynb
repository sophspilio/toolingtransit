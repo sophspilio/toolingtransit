{
  "nbformat": 4,
  "nbformat_minor": 0,
  "metadata": {
    "colab": {
      "provenance": []
    },
    "kernelspec": {
      "name": "python3",
      "display_name": "Python 3"
    },
    "language_info": {
      "name": "python"
    }
  },
  "cells": [
    {
      "cell_type": "markdown",
      "source": [
        "####Setup"
      ],
      "metadata": {
        "id": "tXOEkX6qohA_"
      }
    },
    {
      "cell_type": "code",
      "execution_count": null,
      "metadata": {
        "id": "nNVC7qBmlfXX"
      },
      "outputs": [],
      "source": [
        "!pip install gtfs-segments\n",
        "!pip install folium matplotlib mapclassify\n",
        "!pip install geopandas"
      ]
    },
    {
      "cell_type": "code",
      "source": [
        "#import gtfs_functions as gtfs\n",
        "import geopandas as gpd\n",
        "import matplotlib.pyplot as plt\n",
        "import pandas as pd\n",
        "import numpy as np\n",
        "from shapely.ops import nearest_points\n",
        "from shapely.geometry import Point, LineString, MultiLineString, MultiPoint\n",
        "from shapely.ops import split\n",
        "from shapely import geometry, ops\n",
        "from google.colab import drive\n",
        "from gtfs_segments import get_gtfs_segments\n",
        "drive.mount('/content/gdrive/')\n",
        "root_path = 'gdrive/My Drive/NVTC/GTFS/' # set root path"
      ],
      "metadata": {
        "id": "Ep7Q88ZamURG"
      },
      "execution_count": null,
      "outputs": []
    },
    {
      "cell_type": "markdown",
      "source": [
        "# Package: [GTFS Segments](https://pypi.org/project/gtfs-segments/)"
      ],
      "metadata": {
        "id": "vJ1ex9caWBES"
      }
    },
    {
      "cell_type": "markdown",
      "source": [
        "## ART"
      ],
      "metadata": {
        "id": "BDFvOeJibqYQ"
      }
    },
    {
      "cell_type": "code",
      "source": [
        "ART = root_path+\"2023-02_Arlington.zip\"\n",
        "ARTsegments = get_gtfs_segments(ART)"
      ],
      "metadata": {
        "id": "hGObfz_oWWFc"
      },
      "execution_count": null,
      "outputs": []
    },
    {
      "cell_type": "markdown",
      "source": [
        "## CUE"
      ],
      "metadata": {
        "id": "fNeLi3jwbuZp"
      }
    },
    {
      "cell_type": "code",
      "source": [
        "CUE = root_path+\"2023-02_CUE.zip\"\n",
        "CUEsegments = get_gtfs_segments(CUE)"
      ],
      "metadata": {
        "id": "Y7gG9dKibvx5"
      },
      "execution_count": null,
      "outputs": []
    },
    {
      "cell_type": "markdown",
      "source": [
        "## DASH"
      ],
      "metadata": {
        "id": "O1HS9mjwbspK"
      }
    },
    {
      "cell_type": "code",
      "source": [
        "DASH = root_path+\"2023-02_DASH.zip\"\n",
        "DASHsegments = get_gtfs_segments(DASH)"
      ],
      "metadata": {
        "id": "-qnTkd4MbI5I"
      },
      "execution_count": null,
      "outputs": []
    },
    {
      "cell_type": "markdown",
      "source": [
        "## Fairfax Connector"
      ],
      "metadata": {
        "id": "RXc_hSqtb9ms"
      }
    },
    {
      "cell_type": "code",
      "source": [
        "FFX = root_path+\"2023-02_Fairfax_Connector.zip\"\n",
        "FFXsegments = get_gtfs_segments(FFX)"
      ],
      "metadata": {
        "id": "yxxWSmq3b_3z"
      },
      "execution_count": null,
      "outputs": []
    },
    {
      "cell_type": "markdown",
      "source": [
        "## Loudon County Transit"
      ],
      "metadata": {
        "id": "lp57SrvJcvUf"
      }
    },
    {
      "cell_type": "code",
      "source": [
        "LCT = root_path+\"2023-02_Loudoun.zip\"\n",
        "LCTsegments = get_gtfs_segments(LCT)"
      ],
      "metadata": {
        "id": "1V7CWmYHczwg"
      },
      "execution_count": null,
      "outputs": []
    },
    {
      "cell_type": "markdown",
      "source": [
        "## OmniRide"
      ],
      "metadata": {
        "id": "iNuU3NUgdWrf"
      }
    },
    {
      "cell_type": "code",
      "source": [
        "PRTC = root_path+\"2023-02_OmniRide_PRTC.zip\"\n",
        "PRTCsegments = get_gtfs_segments(PRTC)"
      ],
      "metadata": {
        "id": "zwF_X5LkdX-2"
      },
      "execution_count": null,
      "outputs": []
    },
    {
      "cell_type": "markdown",
      "source": [
        "## Metrobus"
      ],
      "metadata": {
        "id": "LHwmB5kber_Y"
      }
    },
    {
      "cell_type": "code",
      "source": [
        "MB = root_path+\"2023-02_Metrobus.zip\"\n",
        "MBsegments = get_gtfs_segments(MB)"
      ],
      "metadata": {
        "id": "GydtIkRIeySG"
      },
      "execution_count": null,
      "outputs": []
    },
    {
      "cell_type": "code",
      "source": [
        "MBsegments.explore(tiles = \"CartoDB Positron\")"
      ],
      "metadata": {
        "id": "0pxM7zE7RcNU"
      },
      "execution_count": null,
      "outputs": []
    },
    {
      "cell_type": "markdown",
      "source": [
        "## Join"
      ],
      "metadata": {
        "id": "BjugqDSSfQQk"
      }
    },
    {
      "cell_type": "code",
      "source": [
        "ARTsegments['Agency'] = \"ART\"\n",
        "CUEsegments['Agency'] = \"CUE\"\n",
        "DASHsegments['Agency'] = \"DASH\"\n",
        "FFXsegments['Agency'] = \"FFX\"\n",
        "LCTsegments['Agency'] = \"LCT\"\n",
        "PRTCsegments['Agency'] = \"PRTC\"\n",
        "MBsegments['Agency'] = \"Metrobus\"\n",
        "\n",
        "NOVAsegments = pd.concat([ARTsegments, CUEsegments, DASHsegments, FFXsegments, \n",
        "                          FFXsegments, LCTsegments, PRTCsegments, MBsegments]\n",
        "                         , axis = 0, ignore_index = True)"
      ],
      "metadata": {
        "id": "dGcD5oTafSTb"
      },
      "execution_count": null,
      "outputs": []
    },
    {
      "cell_type": "markdown",
      "source": [
        "## Download"
      ],
      "metadata": {
        "id": "IOzFJEnVx95V"
      }
    },
    {
      "cell_type": "code",
      "source": [
        "#download\n",
        "from google.colab import files\n",
        "\n",
        "NOVAsegments.to_csv(\"NOVAsegments.csv\")\n",
        "files.download(\"NOVAsegments.csv\")\n",
        "\n",
        "NOVAsegments.to_file(\"NOVAsegments.shp.zip\")\n",
        "files.download(\"NOVAsegments.shp.zip\")"
      ],
      "metadata": {
        "id": "JgTfyEQnW0mG"
      },
      "execution_count": null,
      "outputs": []
    }
  ]
}